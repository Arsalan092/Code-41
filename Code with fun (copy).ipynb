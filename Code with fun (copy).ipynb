{
  "metadata": {
    "kernelspec": {
      "name": "python",
      "display_name": "Python (Pyodide)",
      "language": "python"
    },
    "language_info": {
      "codemirror_mode": {
        "name": "python",
        "version": 3
      },
      "file_extension": ".py",
      "mimetype": "text/x-python",
      "name": "python",
      "nbconvert_exporter": "python",
      "pygments_lexer": "ipython3",
      "version": "3.8"
    }
  },
  "nbformat_minor": 5,
  "nbformat": 4,
  "cells": [
    {
      "id": "195d5c1b-3629-4144-b30a-d8b1f0f308b8",
      "cell_type": "markdown",
      "source": "# code with fun",
      "metadata": {}
    },
    {
      "id": "cd222f80-31b7-454f-8de7-1dc4c639bd90",
      "cell_type": "markdown",
      "source": "# introduction\nthis coding refers to the beginning of something big",
      "metadata": {}
    },
    {
      "id": "56b1dc73-c911-4a00-abdf-e1c91fcc934a",
      "cell_type": "markdown",
      "source": "## Data Science Languages  \n\nHere are some popular programming languages used in Data Science:  \n\n- Python  \n- R  \n- Julia  \n- SQL  \n- Scala  \n- Java  ",
      "metadata": {}
    },
    {
      "id": "37f26bb9-f640-48f6-abe6-64f37c1bb102",
      "cell_type": "markdown",
      "source": "## Data Science Libraries  \n\nHere are some popular libraries used in Data Science:  \n\n- **Python:** NumPy, Pandas, Matplotlib, Seaborn, Scikit-learn, TensorFlow, PyTorch  \n- **R:** ggplot2, dplyr, tidyr, caret, shiny  \n- **Julia:** Flux, MLJ, DataFrames.jl  ",
      "metadata": {}
    },
    {
      "id": "3de5beb5-b611-4497-87f6-17d8021dc63a",
      "cell_type": "markdown",
      "source": "## Data Science Tools  \n\nBelow is a table of popular Data Science tools:  \n\n| Tool Name          | Description                         |\n|--------------------|-------------------------------------|\n| Jupyter Notebook  | Interactive computing environment  |\n| RStudio          | IDE for R programming               |\n| Apache Spark     | Big data processing framework       |\n| TensorFlow       | Machine learning framework         |\n| PyTorch         | Deep learning framework             |\n| Tableau         | Data visualization tool              |\n| Power BI        | Business intelligence tool          |\n",
      "metadata": {}
    },
    {
      "id": "0ba048d0-8da8-42e3-aa3f-cbaac560c797",
      "cell_type": "markdown",
      "source": "## Arithmetic Expression Examples  \n\nArithmetic expressions are mathematical operations that involve numbers and operators.  \nCommon arithmetic operations include addition (`+`), subtraction (`-`), multiplication (`*`), and division (`/`).  \n\nBelow are some examples:  \n- **Addition:** `5 + 3 = 8`  \n- **Subtraction:** `10 - 4 = 6`  \n- **Multiplication:** `6 * 7 = 42`  \n- **Division:** `20 / 5 = 4`  \n- **Exponentiation:** `2 ** 3 = 8`  \n- **Modulo:** `10 % 3 = 1`  ",
      "metadata": {}
    },
    {
      "id": "2decb9ef-aff2-41c0-859e-c87dae759e34",
      "cell_type": "code",
      "source": "# Multiplication and Addition\na = 5\nb = 3\n\nmultiplication_result = a * b\naddition_result = a + b\n\nprint(\"Multiplication Result:\", multiplication_result)\nprint(\"Addition Result:\", addition_result)",
      "metadata": {
        "trusted": true
      },
      "outputs": [
        {
          "name": "stdout",
          "output_type": "stream",
          "text": "Multiplication Result: 15\nAddition Result: 8\n"
        }
      ],
      "execution_count": 6
    },
    {
      "id": "3772303a-4a5a-4932-b5a8-86d0fcbc1273",
      "cell_type": "code",
      "source": "# Convert minutes to hours\nminutes = 120  # Change this value as needed\nhours = minutes / 60\n\nprint(f\"{minutes} minutes is equal to {hours} hours.\")",
      "metadata": {
        "trusted": true
      },
      "outputs": [
        {
          "name": "stdout",
          "output_type": "stream",
          "text": "120 minutes is equal to 2.0 hours.\n"
        }
      ],
      "execution_count": 7
    },
    {
      "id": "fce699e5-2704-4b99-9ada-7640809cb8ae",
      "cell_type": "markdown",
      "source": "## Objectives\n\n- List popular Data Science languages\n- List commonly used Data Science libraries\n- Create tables of Data Science tools\n- Perform basic arithmetic operations\n- Convert minutes to hours using Python",
      "metadata": {}
    },
    {
      "id": "ba3f54a2-85f8-4cbf-b292-45b797bc4f11",
      "cell_type": "markdown",
      "source": "# author name\n**Arsalan**",
      "metadata": {}
    },
    {
      "id": "b9af6a9c-2971-4e6c-afae-83773f05865a",
      "cell_type": "code",
      "source": "",
      "metadata": {
        "trusted": true
      },
      "outputs": [],
      "execution_count": null
    }
  ]
}